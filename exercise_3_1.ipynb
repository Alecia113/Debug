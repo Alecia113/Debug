{
  "nbformat": 4,
  "nbformat_minor": 0,
  "metadata": {
    "colab": {
      "name": "exercise_3.1.ipynb",
      "provenance": [],
      "collapsed_sections": [],
      "authorship_tag": "ABX9TyPqybvq+JSHIwx+Msk4naXs",
      "include_colab_link": true
    },
    "kernelspec": {
      "name": "python3",
      "display_name": "Python 3"
    },
    "language_info": {
      "name": "python"
    }
  },
  "cells": [
    {
      "cell_type": "markdown",
      "metadata": {
        "id": "view-in-github",
        "colab_type": "text"
      },
      "source": [
        "<a href=\"https://colab.research.google.com/github/Alecia113/Debug/blob/main/exercise_3_1.ipynb\" target=\"_parent\"><img src=\"https://colab.research.google.com/assets/colab-badge.svg\" alt=\"Open In Colab\"/></a>"
      ]
    },
    {
      "cell_type": "markdown",
      "metadata": {
        "id": "lJPx2i5C0Bfc"
      },
      "source": [
        "# Exercise\n",
        "Please complete the following **two questions** E1 and E2 and and submit your **\"ipynb\" file to Canvas**. (You can download it using \"File\" > \"Download .ipynb\"). Please make sure all code required to run your solution properly must be included in the submission file.\n",
        "\n",
        "\n",
        "\n"
      ]
    },
    {
      "cell_type": "markdown",
      "metadata": {
        "id": "KF-vRmAYVpMk"
      },
      "source": [
        "##E1. Briefly describe the impact of window size selection on the Word2Vec?\n",
        "Please write down your answer below with your own words. "
      ]
    },
    {
      "cell_type": "code",
      "metadata": {
        "cellView": "form",
        "id": "jMj_HobwXgR8"
      },
      "source": [
        "#@Lab01 - E1\n",
        "\n",
        "Answer = \" 小的window size在单词可以互换的情况下，我们可以提高word2Vec模型的相似度。\" #@param {type:\"raw\"}"
      ],
      "execution_count": null,
      "outputs": []
    },
    {
      "cell_type": "markdown",
      "metadata": {
        "id": "eq26RDjdzTpJ"
      },
      "source": [
        "##E2. CBOW implementation with PyTorch nn.Module and torch.optim\n",
        "\n",
        "In the tutorial, we learned how to train a word2vec skip-gram model in pytorch with either manually updates the parameters (weights) in it or using nn.Module and torch.optim. \n",
        "\n",
        "In this Lab 03 E2, please:\n",
        "\n",
        "1.   use the \"NN Model (**nn.Module**)\" and the \"Optimiser (**torch.optim**)\" (that we learned in the above sections) to train a word2vec **CBOW (NOT Skip Gram)** model  on the provided toy data with widow_size=1 and embedding_size=2. And you are also encouraged to research on **nn.Embedding** and use it in this exercise but it is not required.\n",
        "2.   visualize (plot) the trained embeddings for each word in the vocabulary\n",
        "\n",
        "\n",
        "\n",
        "Note: The embedding size should 2. The code for the preprocessing and the hyperparameter setup are provided. Have fun!\n"
      ]
    },
    {
      "cell_type": "code",
      "metadata": {
        "id": "aFMCbPv62EXA"
      },
      "source": [
        "'''\n",
        "PyTorch nn.module 和toch.optim 实现CBOW [多到一]\n",
        "\n",
        "我们会nn.Module 和torch.optim 来训练word2Vec skip-gram\n",
        "=======\n",
        "\n",
        "1：使用 nn.Module 和优化器 torch.optim 去训练 word2vec CBOW [这个地方变了]\n",
        "window_size = 1 ; embedding_size = 2 (可研究nn.Embedding，不必要)\n",
        "\n",
        "2plot 每个词。\n",
        "\n",
        "潜入大小2； 提供了预处理和超参数设置的代码\n",
        "\n",
        "'''\n",
        "'''\n",
        "nn.model 就是一个个转头堆成神经网络\n",
        "而word2vec 就需要两个线性回归就可做出来了\n",
        "\n",
        "linear （参数 神经元：work——size——hidden.size 到vecbolary.size)\n",
        "window就是为了做中center和context的呀\n",
        "\n",
        "'''\n",
        "\n"
      ],
      "execution_count": null,
      "outputs": []
    },
    {
      "cell_type": "code",
      "metadata": {
        "id": "if-vXfWy2LKk"
      },
      "source": [
        "#先回去把它给你的语句弄明白是什么意思\n",
        "#看看缺的是什么\n",
        "#明确这两个东西 nn.module 和torch.optim\n",
        "#明确流程是哪一步\n",
        "#不行先从没有隐藏层开始\n",
        "#可以先听课\n",
        "#回去就开始研究再研究会"
      ],
      "execution_count": null,
      "outputs": []
    },
    {
      "cell_type": "code",
      "metadata": {
        "id": "OkqaE_i_WQL2"
      },
      "source": [
        "import matplotlib\n",
        "import matplotlib.pyplot as plt\n",
        "import numpy as np\n",
        "import torch\n",
        "import torch.nn as nn\n",
        "import torch.optim as optim\n",
        "import torch.nn.functional as F  #add\n",
        "from random import shuffle\n",
        "\n",
        "# Raw data - sentences\n",
        "# Let's create toy data for simplicity \n",
        "sentences = [\"he likes cat\",\n",
        "             \"he likes dog\",\n",
        "             \"he likes animal\",\n",
        "             \"dog cat animal\",\n",
        "             \"she likes cat\",\n",
        "             \"she dislikes dog\",\n",
        "             \"cat likes fish\",\n",
        "             \"cat likes milk\",\n",
        "             \"dog likes bone\",\n",
        "             \"dog dislikes fish\",\n",
        "             \"dog likes milk\",\n",
        "             \"she likes movie\",\n",
        "             \"she likes music\",\n",
        "             \"he likes game\",\n",
        "             \"he likes movie\",\n",
        "             \"cat dislikes dog\"]\n",
        "\n",
        "# convert all sentences to unique word list\n",
        "word_list = \" \".join(sentences).split()     #将所有句子转换为唯一单词列表  #每个单词拆出来\n",
        "word_list = list(set(word_list))    #把重复的单词去掉 ，每个单词都取一个\n",
        "\n",
        "\n",
        "# make dictionary so that we can reference each index of unique word\n",
        "word_dict = {w: i for i, w in enumerate(word_list)}      # 制作字典，以便我们可以在dex中引用每个单词；格式为w(词)：i(序号) \n",
        "\n",
        "# make window size=1 for cbow\n",
        "# i.e.) he likes cat\n",
        "#   -> ([likes], he), ([he, cat], likes), ([likes], cat)\n",
        "#   -> ([likes, likes], he), ([he, cat], likes), ([likes, likes], cat)\n",
        "# Double the input when the word doesn't have two neighbours\n",
        "# This will make your input have the same size, which will make it easier when you write the CBOW model code\n",
        "# But this trick only works when window_size = 1\n",
        "\n",
        "cbow = [] #不同#初始化cbow\n",
        "#开始循环 在做window 跳步 \n",
        "#有点迭代的感觉。\n",
        "for sentence in sentences:\n",
        "    sentence = sentence.split()\n",
        "    for i in range(len(sentence)):\n",
        "        centre = word_dict[sentence[i]]\n",
        "        if i > 0 and i < len(sentence)-1:\n",
        "            context = [word_dict[sentence[i - 1]], word_dict[sentence[i + 1]]]  #中间部分\n",
        "        elif i == 0:\n",
        "            context = [word_dict[sentence[i + 1]], word_dict[sentence[i + 1]]]  #右边1\n",
        "        else:\n",
        "            context = [word_dict[sentence[i - 1]], word_dict[sentence[i - 1]]]  #左边一个\n",
        "\n",
        "        \n",
        "\n",
        "        \n",
        "        cbow.append([context, centre]) #不同\n",
        "\n",
        "# hyperparameter\n",
        "voc_size = len(word_list)#13\n",
        "learning_rate = 0.1\n",
        "batch_size = 16   #crossentropyloss(16*13)\n",
        "embedding_size = 2\n",
        "no_of_epochs = 5000\n",
        "\n",
        "\n"
      ],
      "execution_count": 1,
      "outputs": []
    },
    {
      "cell_type": "code",
      "metadata": {
        "id": "ddcQeRVdSnui"
      },
      "source": [
        "cbow"
      ],
      "execution_count": null,
      "outputs": []
    },
    {
      "cell_type": "code",
      "metadata": {
        "colab": {
          "base_uri": "https://localhost:8080/"
        },
        "id": "jumdA525J7Lh",
        "outputId": "40b83464-fc1e-4644-be5b-e59748c8c9f6"
      },
      "source": [
        "word_dict"
      ],
      "execution_count": 4,
      "outputs": [
        {
          "output_type": "execute_result",
          "data": {
            "text/plain": [
              "{'animal': 2,\n",
              " 'bone': 6,\n",
              " 'cat': 3,\n",
              " 'dislikes': 9,\n",
              " 'dog': 5,\n",
              " 'fish': 11,\n",
              " 'game': 7,\n",
              " 'he': 10,\n",
              " 'likes': 0,\n",
              " 'milk': 8,\n",
              " 'movie': 1,\n",
              " 'music': 4,\n",
              " 'she': 12}"
            ]
          },
          "metadata": {
            "tags": []
          },
          "execution_count": 4
        }
      ]
    },
    {
      "cell_type": "code",
      "metadata": {
        "colab": {
          "base_uri": "https://localhost:8080/"
        },
        "id": "16dGiQwCLQgk",
        "outputId": "05b40c17-c4db-4b46-da5d-971df0c52f60"
      },
      "source": [
        "context"
      ],
      "execution_count": null,
      "outputs": [
        {
          "output_type": "execute_result",
          "data": {
            "text/plain": [
              "[8, 8]"
            ]
          },
          "metadata": {
            "tags": []
          },
          "execution_count": 72
        }
      ]
    },
    {
      "cell_type": "code",
      "metadata": {
        "colab": {
          "base_uri": "https://localhost:8080/"
        },
        "id": "81Eoia1NLSmI",
        "outputId": "3c4ef14d-0ece-4538-fa16-eca838663a5b"
      },
      "source": [
        "centre"
      ],
      "execution_count": null,
      "outputs": [
        {
          "output_type": "execute_result",
          "data": {
            "text/plain": [
              "5"
            ]
          },
          "metadata": {
            "tags": []
          },
          "execution_count": 73
        }
      ]
    },
    {
      "cell_type": "code",
      "metadata": {
        "id": "L0g3YwTsJact"
      },
      "source": [
        "#text\n",
        "cbow  #skip_grams 是两位 这里是三位多一维\n",
        "'''\n",
        "[[[8, 8], 1],\n",
        " [[1, 4], 8],\n",
        " '''"
      ],
      "execution_count": null,
      "outputs": []
    },
    {
      "cell_type": "code",
      "metadata": {
        "id": "o-ZkBqDT6I30"
      },
      "source": [
        "voc_size = len(word_list)       # 不重复的单词一共13; 13\n",
        "\n",
        "def prepare_batch(data_temp):     #[[[8, 8], 4], [[9, 5], 7], [[1, 12], 8], [[8, 8], 3], [[8, 8], 11], ...] (16 items total)\n",
        "  inputs = []\n",
        "  labels = []\n",
        "\n",
        "\n",
        "  for i in range(len(data_temp)):\n",
        "    input_temp = [0]*voc_size     #让这13个不同的单词位置上都是0;#[0, 0, 0, 0, 0, 0, 0, 0, 0, 0, 0, 0, 0]s[固定]\n",
        "    input_temp[data_temp[i][0][0]] = 1   # one-hot input 【？？】是指【input】【labels】么？#不确定\n",
        "    inputs.append(input_temp)   # centre\n",
        "    labels.append(data_temp[i][1])  #context word\n",
        "\n",
        "  return np.array(inputs), np.array(labels)\n",
        "\n",
        "\n"
      ],
      "execution_count": 2,
      "outputs": []
    },
    {
      "cell_type": "code",
      "metadata": {
        "colab": {
          "base_uri": "https://localhost:8080/"
        },
        "id": "Nx1EXOD6ppPR",
        "outputId": "18ec0b44-7524-409f-d512-9fe344f6adca"
      },
      "source": [
        "data_temp"
      ],
      "execution_count": null,
      "outputs": [
        {
          "output_type": "execute_result",
          "data": {
            "text/plain": [
              "[[[9, 9], 9],\n",
              " [[9, 9], 9],\n",
              " [[11, 0], 0],\n",
              " [[4, 3], 4],\n",
              " [[4, 0], 4],\n",
              " [[9, 9], 9],\n",
              " [[9, 9], 9],\n",
              " [[9, 9], 9],\n",
              " [[5, 3], 3],\n",
              " [[5, 1], 5],\n",
              " [[4, 10], 10],\n",
              " [[8, 8], 8],\n",
              " [[4, 5], 5],\n",
              " [[9, 9], 9],\n",
              " [[9, 9], 9],\n",
              " [[9, 9], 9]]"
            ]
          },
          "metadata": {
            "tags": []
          },
          "execution_count": 78
        }
      ]
    },
    {
      "cell_type": "code",
      "metadata": {
        "colab": {
          "base_uri": "https://localhost:8080/"
        },
        "id": "BwQA6LGApcJW",
        "outputId": "fd5a320e-ecd6-48fa-a0d7-c4f576930027"
      },
      "source": [
        "labels = []\n",
        "labels.append(data_temp[i][1])\n",
        "labels"
      ],
      "execution_count": null,
      "outputs": [
        {
          "output_type": "execute_result",
          "data": {
            "text/plain": [
              "[0]"
            ]
          },
          "metadata": {
            "tags": []
          },
          "execution_count": 81
        }
      ]
    },
    {
      "cell_type": "code",
      "metadata": {
        "colab": {
          "base_uri": "https://localhost:8080/"
        },
        "id": "XIO1BIJ1pNXx",
        "outputId": "32e333e9-02ae-4a80-b25f-fc0b9aff5327"
      },
      "source": [
        "  input_temp = [0]*voc_size     #让这13个不同的单词位置上都是0;#[0, 0, 0, 0, 0, 0, 0, 0, 0, 0, 0, 0, 0]s[固定]\n",
        "  input_temp[data_temp[i][0][0]] = 1 \n",
        "  inputs_temp"
      ],
      "execution_count": null,
      "outputs": [
        {
          "output_type": "execute_result",
          "data": {
            "text/plain": [
              "array([[0, 0, 0, 0, 0, 0, 0, 1, 0, 0, 0, 0, 0],\n",
              "       [0, 0, 0, 0, 0, 0, 0, 0, 0, 1, 0, 0, 0],\n",
              "       [0, 0, 0, 0, 0, 0, 0, 0, 0, 1, 0, 0, 0],\n",
              "       [0, 0, 0, 0, 0, 0, 0, 0, 0, 0, 1, 0, 0],\n",
              "       [0, 0, 0, 0, 0, 0, 0, 0, 0, 1, 0, 0, 0],\n",
              "       [0, 0, 1, 0, 0, 0, 0, 0, 0, 0, 0, 0, 0],\n",
              "       [0, 0, 0, 0, 0, 0, 0, 0, 0, 1, 0, 0, 0],\n",
              "       [0, 0, 0, 0, 0, 0, 0, 0, 0, 0, 1, 0, 0],\n",
              "       [0, 0, 0, 0, 0, 0, 0, 0, 0, 1, 0, 0, 0],\n",
              "       [0, 0, 0, 0, 0, 0, 0, 0, 0, 0, 0, 1, 0],\n",
              "       [0, 0, 0, 0, 0, 0, 0, 0, 0, 0, 0, 1, 0],\n",
              "       [0, 0, 0, 0, 0, 0, 0, 0, 0, 0, 1, 0, 0],\n",
              "       [0, 0, 0, 0, 0, 0, 0, 0, 0, 1, 0, 0, 0],\n",
              "       [0, 0, 0, 0, 0, 0, 0, 0, 0, 1, 0, 0, 0],\n",
              "       [0, 0, 0, 0, 0, 0, 0, 1, 0, 0, 0, 0, 0],\n",
              "       [0, 0, 0, 0, 0, 0, 0, 0, 0, 1, 0, 0, 0]])"
            ]
          },
          "metadata": {
            "tags": []
          },
          "execution_count": 14
        }
      ]
    },
    {
      "cell_type": "code",
      "metadata": {
        "colab": {
          "base_uri": "https://localhost:8080/"
        },
        "id": "A478bNqxq_5C",
        "outputId": "0a25ddf7-f3b5-4d98-dac6-ec8e4d591d79"
      },
      "source": [
        "#perpare for data\n",
        "x_data = np.array(\n",
        "    [[0,0],[1,0],[1,1],[0,0],[0,0],[0,1]])  #创建数据one-hot\n",
        "\n",
        "x_data_torch = torch.from_numpy(x_data).float() #转类型变张量，目前还是整数\n",
        "\n",
        "y_data = np.array([0,1,2,0,0,2]) #output\n",
        "y_data_torch = torch.from_numpy(y_data) #output torch\n",
        "\n",
        "num_features = 2 # 2个特征--hair, feather\n",
        "num_classes = 3 # 3 输出类 other,mammal,bird"
      ],
      "execution_count": null,
      "outputs": [
        {
          "output_type": "execute_result",
          "data": {
            "text/plain": [
              "96"
            ]
          },
          "metadata": {
            "tags": []
          },
          "execution_count": 9
        }
      ]
    },
    {
      "cell_type": "code",
      "metadata": {
        "id": "XhaEsRJh1-pV",
        "colab": {
          "base_uri": "https://localhost:8080/",
          "height": 219
        },
        "outputId": "5bb0cd95-0f00-432a-da64-0f351b7b05d6"
      },
      "source": [
        "for ind in range(0,len(cbow),batch_size):   #ind = epoch \n",
        "    data_temp = cbow[ind: min(ind+batch_size, len(cbow))]\n",
        "    inputs_temp, labels_temp = prepare_batch(data_temp)\n",
        "\n",
        "    inputs_torch = torch.from_numpy(inputs_temp).float()    #inputs\n",
        "    labels_torch = torch.from_numpy(labels_temp)  #把数组转成张量   #labels\n",
        "\n",
        "    hidden = torch.add(torch.matmul(inputs_torch,W1),B1)#还多了个hidden = z1\n",
        "    out = torch.add(torch.matmul(F.relu(hidden),Wout), Bout) #不一样是放进了激活函数\n"
      ],
      "execution_count": 4,
      "outputs": [
        {
          "output_type": "error",
          "ename": "NameError",
          "evalue": "ignored",
          "traceback": [
            "\u001b[0;31m---------------------------------------------------------------------------\u001b[0m",
            "\u001b[0;31mNameError\u001b[0m                                 Traceback (most recent call last)",
            "\u001b[0;32m<ipython-input-4-2778040761be>\u001b[0m in \u001b[0;36m<module>\u001b[0;34m()\u001b[0m\n\u001b[1;32m      6\u001b[0m     \u001b[0mlabels_torch\u001b[0m \u001b[0;34m=\u001b[0m \u001b[0mtorch\u001b[0m\u001b[0;34m.\u001b[0m\u001b[0mfrom_numpy\u001b[0m\u001b[0;34m(\u001b[0m\u001b[0mlabels_temp\u001b[0m\u001b[0;34m)\u001b[0m  \u001b[0;31m#把数组转成张量   #labels\u001b[0m\u001b[0;34m\u001b[0m\u001b[0;34m\u001b[0m\u001b[0m\n\u001b[1;32m      7\u001b[0m \u001b[0;34m\u001b[0m\u001b[0m\n\u001b[0;32m----> 8\u001b[0;31m     \u001b[0mhidden\u001b[0m \u001b[0;34m=\u001b[0m \u001b[0mtorch\u001b[0m\u001b[0;34m.\u001b[0m\u001b[0madd\u001b[0m\u001b[0;34m(\u001b[0m\u001b[0mtorch\u001b[0m\u001b[0;34m.\u001b[0m\u001b[0mmatmul\u001b[0m\u001b[0;34m(\u001b[0m\u001b[0minputs_torch\u001b[0m\u001b[0;34m,\u001b[0m\u001b[0mW1\u001b[0m\u001b[0;34m)\u001b[0m\u001b[0;34m,\u001b[0m\u001b[0mB1\u001b[0m\u001b[0;34m)\u001b[0m\u001b[0;31m#还多了个hidden = z1\u001b[0m\u001b[0;34m\u001b[0m\u001b[0;34m\u001b[0m\u001b[0m\n\u001b[0m\u001b[1;32m      9\u001b[0m     \u001b[0mout\u001b[0m \u001b[0;34m=\u001b[0m \u001b[0mtorch\u001b[0m\u001b[0;34m.\u001b[0m\u001b[0madd\u001b[0m\u001b[0;34m(\u001b[0m\u001b[0mtorch\u001b[0m\u001b[0;34m.\u001b[0m\u001b[0mmatmul\u001b[0m\u001b[0;34m(\u001b[0m\u001b[0mF\u001b[0m\u001b[0;34m.\u001b[0m\u001b[0mrelu\u001b[0m\u001b[0;34m(\u001b[0m\u001b[0mhidden\u001b[0m\u001b[0;34m)\u001b[0m\u001b[0;34m,\u001b[0m\u001b[0mWout\u001b[0m\u001b[0;34m)\u001b[0m\u001b[0;34m,\u001b[0m \u001b[0mBout\u001b[0m\u001b[0;34m)\u001b[0m \u001b[0;31m#不一样是放进了激活函数\u001b[0m\u001b[0;34m\u001b[0m\u001b[0;34m\u001b[0m\u001b[0m\n",
            "\u001b[0;31mNameError\u001b[0m: name 'W1' is not defined"
          ]
        }
      ]
    },
    {
      "cell_type": "code",
      "metadata": {
        "colab": {
          "base_uri": "https://localhost:8080/",
          "height": 372
        },
        "id": "QPCE8hQF1dMW",
        "outputId": "b56371bb-089d-41ff-9c3f-bc3c7fc35288"
      },
      "source": [
        "import torch.nn as nn\n",
        "import torch.nn.functional as F\n",
        "from sklearn.metrics import accuracy_score\n",
        "\n",
        "\n",
        "\n",
        "W1 = torch.randn(voc_size, embedding_size, requires_grad=True) #输入特征，输出（隐藏侧神经元数量）\n",
        "B1 = torch.randn(embedding_size, requires_grad=True) # 让隐藏层；偏移输出 候选日期的数量。即5 隐藏层中的神经元数量\n",
        "# w1 （ ……num_features， num_classes， requ）\n",
        "#Bout = 没隐藏的b\n",
        "Wout = torch.rand(embedding_size, num_classes, requires_grad=True)#输入神经元数，输出类\n",
        "\n",
        "Bout = torch.randn(num_classes, requires_grad=True)  #输出类3\n",
        "\n",
        "learning_rate=0.01 #没变\n",
        "no_of_epochs = 2000 # nob\n",
        "\n",
        "for epoch in range(no_of_epochs):\n",
        "  z1 = torch.add(torch.matmul(inputs_torch, W1), B1) # no 变\n",
        "  Zout = torch.add(torch.matmul(F.relu(z1), Wout), Bout) #  激活函数的加和\n",
        "\n",
        "  log_softmax = F.log_softmax(Zout,dim=1) #no大变\n",
        "  loss = F.nll_loss(log_softmax, labels_torch) #no大变\n",
        "\n",
        "  loss.backward()#nb\n",
        "  with torch.no_grad():#nb\n",
        "    W1.data -= learning_rate*W1.grad.data#nb\n",
        "    B1.data -= learning_rate*B1.grad.data#nb\n",
        "    \n",
        "    Wout.data -= learning_rate*Wout.grad.data  #bian\n",
        "    Bout.data -= learning_rate*Bout.grad.data  #b\n",
        "\n",
        "  W1.grad.data.zero_()#nb\n",
        "  B1.grad.data.zero_()#nb\n",
        "  Wout.grad.data.zero_()#b\n",
        "  Bout.grad.data.zero_()#b\n",
        "\n",
        "\n",
        "  loss_sum += loss.item()\n",
        "\n",
        "  if epoch % 500 == 499:\n",
        "    print('Epoch: %d, loss: %.4f' %(epoch +1 , loss_sum))\n",
        "\n",
        "\n",
        "print(\"Finished\") #分隔\n",
        "\n",
        "\n"
      ],
      "execution_count": null,
      "outputs": [
        {
          "output_type": "error",
          "ename": "IndexError",
          "evalue": "ignored",
          "traceback": [
            "\u001b[0;31m---------------------------------------------------------------------------\u001b[0m",
            "\u001b[0;31mIndexError\u001b[0m                                Traceback (most recent call last)",
            "\u001b[0;32m<ipython-input-86-5373b9d580ab>\u001b[0m in \u001b[0;36m<module>\u001b[0;34m()\u001b[0m\n\u001b[1;32m     21\u001b[0m \u001b[0;34m\u001b[0m\u001b[0m\n\u001b[1;32m     22\u001b[0m   \u001b[0mlog_softmax\u001b[0m \u001b[0;34m=\u001b[0m \u001b[0mF\u001b[0m\u001b[0;34m.\u001b[0m\u001b[0mlog_softmax\u001b[0m\u001b[0;34m(\u001b[0m\u001b[0mZout\u001b[0m\u001b[0;34m,\u001b[0m\u001b[0mdim\u001b[0m\u001b[0;34m=\u001b[0m\u001b[0;36m1\u001b[0m\u001b[0;34m)\u001b[0m \u001b[0;31m#no大变\u001b[0m\u001b[0;34m\u001b[0m\u001b[0;34m\u001b[0m\u001b[0m\n\u001b[0;32m---> 23\u001b[0;31m   \u001b[0mloss\u001b[0m \u001b[0;34m=\u001b[0m \u001b[0mF\u001b[0m\u001b[0;34m.\u001b[0m\u001b[0mnll_loss\u001b[0m\u001b[0;34m(\u001b[0m\u001b[0mlog_softmax\u001b[0m\u001b[0;34m,\u001b[0m \u001b[0mlabels_torch\u001b[0m\u001b[0;34m)\u001b[0m \u001b[0;31m#no大变\u001b[0m\u001b[0;34m\u001b[0m\u001b[0;34m\u001b[0m\u001b[0m\n\u001b[0m\u001b[1;32m     24\u001b[0m \u001b[0;34m\u001b[0m\u001b[0m\n\u001b[1;32m     25\u001b[0m   \u001b[0mloss\u001b[0m\u001b[0;34m.\u001b[0m\u001b[0mbackward\u001b[0m\u001b[0;34m(\u001b[0m\u001b[0;34m)\u001b[0m\u001b[0;31m#nb\u001b[0m\u001b[0;34m\u001b[0m\u001b[0;34m\u001b[0m\u001b[0m\n",
            "\u001b[0;32m/usr/local/lib/python3.7/dist-packages/torch/nn/functional.py\u001b[0m in \u001b[0;36mnll_loss\u001b[0;34m(input, target, weight, size_average, ignore_index, reduce, reduction)\u001b[0m\n\u001b[1;32m   2383\u001b[0m         )\n\u001b[1;32m   2384\u001b[0m     \u001b[0;32mif\u001b[0m \u001b[0mdim\u001b[0m \u001b[0;34m==\u001b[0m \u001b[0;36m2\u001b[0m\u001b[0;34m:\u001b[0m\u001b[0;34m\u001b[0m\u001b[0;34m\u001b[0m\u001b[0m\n\u001b[0;32m-> 2385\u001b[0;31m         \u001b[0mret\u001b[0m \u001b[0;34m=\u001b[0m \u001b[0mtorch\u001b[0m\u001b[0;34m.\u001b[0m\u001b[0m_C\u001b[0m\u001b[0;34m.\u001b[0m\u001b[0m_nn\u001b[0m\u001b[0;34m.\u001b[0m\u001b[0mnll_loss\u001b[0m\u001b[0;34m(\u001b[0m\u001b[0minput\u001b[0m\u001b[0;34m,\u001b[0m \u001b[0mtarget\u001b[0m\u001b[0;34m,\u001b[0m \u001b[0mweight\u001b[0m\u001b[0;34m,\u001b[0m \u001b[0m_Reduction\u001b[0m\u001b[0;34m.\u001b[0m\u001b[0mget_enum\u001b[0m\u001b[0;34m(\u001b[0m\u001b[0mreduction\u001b[0m\u001b[0;34m)\u001b[0m\u001b[0;34m,\u001b[0m \u001b[0mignore_index\u001b[0m\u001b[0;34m)\u001b[0m\u001b[0;34m\u001b[0m\u001b[0;34m\u001b[0m\u001b[0m\n\u001b[0m\u001b[1;32m   2386\u001b[0m     \u001b[0;32melif\u001b[0m \u001b[0mdim\u001b[0m \u001b[0;34m==\u001b[0m \u001b[0;36m4\u001b[0m\u001b[0;34m:\u001b[0m\u001b[0;34m\u001b[0m\u001b[0;34m\u001b[0m\u001b[0m\n\u001b[1;32m   2387\u001b[0m         \u001b[0mret\u001b[0m \u001b[0;34m=\u001b[0m \u001b[0mtorch\u001b[0m\u001b[0;34m.\u001b[0m\u001b[0m_C\u001b[0m\u001b[0;34m.\u001b[0m\u001b[0m_nn\u001b[0m\u001b[0;34m.\u001b[0m\u001b[0mnll_loss2d\u001b[0m\u001b[0;34m(\u001b[0m\u001b[0minput\u001b[0m\u001b[0;34m,\u001b[0m \u001b[0mtarget\u001b[0m\u001b[0;34m,\u001b[0m \u001b[0mweight\u001b[0m\u001b[0;34m,\u001b[0m \u001b[0m_Reduction\u001b[0m\u001b[0;34m.\u001b[0m\u001b[0mget_enum\u001b[0m\u001b[0;34m(\u001b[0m\u001b[0mreduction\u001b[0m\u001b[0;34m)\u001b[0m\u001b[0;34m,\u001b[0m \u001b[0mignore_index\u001b[0m\u001b[0;34m)\u001b[0m\u001b[0;34m\u001b[0m\u001b[0;34m\u001b[0m\u001b[0m\n",
            "\u001b[0;31mIndexError\u001b[0m: Target 9 is out of bounds."
          ]
        }
      ]
    },
    {
      "cell_type": "code",
      "metadata": {
        "id": "zG3uX7tu6Jdu",
        "colab": {
          "base_uri": "https://localhost:8080/",
          "height": 372
        },
        "outputId": "cdc53581-7659-4201-e77e-01e1a554c981"
      },
      "source": [
        "import torch\n",
        "import torch.nn as nn\n",
        "import torch.nn.functional as F\n",
        "from sklearn.metrics import accuracy_score\n",
        "from random import shuffle\n",
        "import torch.optim as optim\n",
        "\n",
        "num_classes = 1 #j\n",
        "\n",
        "W1 = torch.randn(voc_size, embedding_size, requires_grad = True)  #还是随机生成\n",
        "Wout = torch.randn(embedding_size, num_classes, requires_grad=True)  #还是随机生成\n",
        "\n",
        "#j\n",
        "B1 = torch.randn(embedding_size, requires_grad= True)\n",
        "Bout = torch.randn(num_classes, requires_grad=True)\n",
        "\n",
        "class ModelWithHiddenLayer(nn.Module):\n",
        "  def __init__(self, input_size, hidden_size, output_size):\n",
        "    super(ModelWithHiddenLayer, self).__init__()\n",
        "    self.linear1 = nn.Linear(input_size, hidden_size)\n",
        "    self.linear2 = nn.Linear(hidden_size, output_size)\n",
        "\n",
        "\n",
        "  def forward(self, x):\n",
        "    hidden = self.linear1(x)\n",
        "    out = self.linear2(F.relu(hidden))\n",
        "    return out\n",
        "\n",
        "\n",
        "\n",
        "model = ModelWithHiddenLayer(voc_size, embedding_size,num_classes)\n",
        "\n",
        "\n",
        "optimiser = optim.SGD(model.parameters(), lr=learning_rate)\n",
        "\n",
        "for epoch in range(no_of_epochs):\n",
        "  shuffle(cbow) #非必须\n",
        "  loss_sum = 0  #非必须\n",
        "#没懂在做什么\n",
        "  for ind in range(0,len(cbow),batch_size):   #ind = epoch \n",
        "    data_temp = cbow[ind: min(ind+batch_size, len(cbow))]\n",
        "    inputs_temp, labels_temp = prepare_batch(data_temp)\n",
        "\n",
        "    inputs_torch = torch.from_numpy(inputs_temp).float()    #inputs\n",
        "    labels_torch = torch.from_numpy(labels_temp)  #把数组转成张量   #labels\n",
        "\n",
        "    hidden = torch.add(torch.matmul(inputs_torch,W1),B1)#还多了个hidden = z1\n",
        "    out = torch.add(torch.matmul(F.relu(hidden),Wout), Bout) #不一样是放进了激活函数\n",
        "    '''\n",
        "    for epoch in range(no_of_epochs):\n",
        "  z1 = torch.add(torch.matmul(x_data_torch, W1), B1) # no 变\n",
        "  Zout = torch.add(torch.matmul(F.relu(z1), Wout), Bout) #  激活函数的加和\n",
        "\n",
        "  '''\n",
        "\n",
        "  '''\n",
        "  加了优化器就把这改了\n",
        "  criterion = nn.CrossEntropyLoss()\n",
        "    log_softmax = F.log_softmax(out,dim=1) #(out,dim=1)落东西了 #out = Zout\n",
        "    loss = F.nll_loss(log_softmax, labels_torch)    # labels_torch = y_data_torch\n",
        "  '''\n",
        "\n",
        "  model.train()\n",
        "  optimiser.zero_grad()\n",
        "\n",
        "  outputs = model(inputs_torch)\n",
        "  log_softmax = F.log_softmax(outputs,dim=1) #(out,dim=1)落东西了 #out = Zout\n",
        "  loss = F.nll_loss(log_softmax,labels_torch)    # labels_torch = y_data_torch\n",
        "\n",
        "\n",
        "   #参数改了一下 output , y_target\n",
        "  loss.backward()\n",
        "  #j\n",
        "  optimiser.step()\n",
        "\n",
        "  with torch.no_grad():\n",
        "    W1.data -= learning_rate*W1.grad.data\n",
        "    Wout.data -= learning_rate*Wout.grad.data\n",
        "    #j\n",
        "    B1.data -= learning_rate*B1.grad.data\n",
        "    Bout.data -= learning_rate*Bout.grad.data\n",
        "\n",
        "  W1.grad.data.zero_()\n",
        "  Wout.grad.data.zero_()\n",
        "  #j\n",
        "  B1.grad.data.zero_()\n",
        "  Bout.grad.data.zero_()\n",
        "\n",
        "\n",
        "  loss_sum += loss.item()\n",
        "\n",
        "  if epoch % 500 == 499:\n",
        "    print('Epoch: %d, loss: %.4f' %(epoch +1 , loss_sum))\n",
        "\n"
      ],
      "execution_count": null,
      "outputs": [
        {
          "output_type": "error",
          "ename": "IndexError",
          "evalue": "ignored",
          "traceback": [
            "\u001b[0;31m---------------------------------------------------------------------------\u001b[0m",
            "\u001b[0;31mIndexError\u001b[0m                                Traceback (most recent call last)",
            "\u001b[0;32m<ipython-input-87-d911db4f2a8e>\u001b[0m in \u001b[0;36m<module>\u001b[0;34m()\u001b[0m\n\u001b[1;32m     66\u001b[0m   \u001b[0moutputs\u001b[0m \u001b[0;34m=\u001b[0m \u001b[0mmodel\u001b[0m\u001b[0;34m(\u001b[0m\u001b[0minputs_torch\u001b[0m\u001b[0;34m)\u001b[0m\u001b[0;34m\u001b[0m\u001b[0;34m\u001b[0m\u001b[0m\n\u001b[1;32m     67\u001b[0m   \u001b[0mlog_softmax\u001b[0m \u001b[0;34m=\u001b[0m \u001b[0mF\u001b[0m\u001b[0;34m.\u001b[0m\u001b[0mlog_softmax\u001b[0m\u001b[0;34m(\u001b[0m\u001b[0moutputs\u001b[0m\u001b[0;34m,\u001b[0m\u001b[0mdim\u001b[0m\u001b[0;34m=\u001b[0m\u001b[0;36m1\u001b[0m\u001b[0;34m)\u001b[0m \u001b[0;31m#(out,dim=1)落东西了 #out = Zout\u001b[0m\u001b[0;34m\u001b[0m\u001b[0;34m\u001b[0m\u001b[0m\n\u001b[0;32m---> 68\u001b[0;31m   \u001b[0mloss\u001b[0m \u001b[0;34m=\u001b[0m \u001b[0mF\u001b[0m\u001b[0;34m.\u001b[0m\u001b[0mnll_loss\u001b[0m\u001b[0;34m(\u001b[0m\u001b[0mlog_softmax\u001b[0m\u001b[0;34m,\u001b[0m\u001b[0mlabels_torch\u001b[0m\u001b[0;34m)\u001b[0m    \u001b[0;31m# labels_torch = y_data_torch\u001b[0m\u001b[0;34m\u001b[0m\u001b[0;34m\u001b[0m\u001b[0m\n\u001b[0m\u001b[1;32m     69\u001b[0m \u001b[0;34m\u001b[0m\u001b[0m\n\u001b[1;32m     70\u001b[0m \u001b[0;34m\u001b[0m\u001b[0m\n",
            "\u001b[0;32m/usr/local/lib/python3.7/dist-packages/torch/nn/functional.py\u001b[0m in \u001b[0;36mnll_loss\u001b[0;34m(input, target, weight, size_average, ignore_index, reduce, reduction)\u001b[0m\n\u001b[1;32m   2383\u001b[0m         )\n\u001b[1;32m   2384\u001b[0m     \u001b[0;32mif\u001b[0m \u001b[0mdim\u001b[0m \u001b[0;34m==\u001b[0m \u001b[0;36m2\u001b[0m\u001b[0;34m:\u001b[0m\u001b[0;34m\u001b[0m\u001b[0;34m\u001b[0m\u001b[0m\n\u001b[0;32m-> 2385\u001b[0;31m         \u001b[0mret\u001b[0m \u001b[0;34m=\u001b[0m \u001b[0mtorch\u001b[0m\u001b[0;34m.\u001b[0m\u001b[0m_C\u001b[0m\u001b[0;34m.\u001b[0m\u001b[0m_nn\u001b[0m\u001b[0;34m.\u001b[0m\u001b[0mnll_loss\u001b[0m\u001b[0;34m(\u001b[0m\u001b[0minput\u001b[0m\u001b[0;34m,\u001b[0m \u001b[0mtarget\u001b[0m\u001b[0;34m,\u001b[0m \u001b[0mweight\u001b[0m\u001b[0;34m,\u001b[0m \u001b[0m_Reduction\u001b[0m\u001b[0;34m.\u001b[0m\u001b[0mget_enum\u001b[0m\u001b[0;34m(\u001b[0m\u001b[0mreduction\u001b[0m\u001b[0;34m)\u001b[0m\u001b[0;34m,\u001b[0m \u001b[0mignore_index\u001b[0m\u001b[0;34m)\u001b[0m\u001b[0;34m\u001b[0m\u001b[0;34m\u001b[0m\u001b[0m\n\u001b[0m\u001b[1;32m   2386\u001b[0m     \u001b[0;32melif\u001b[0m \u001b[0mdim\u001b[0m \u001b[0;34m==\u001b[0m \u001b[0;36m4\u001b[0m\u001b[0;34m:\u001b[0m\u001b[0;34m\u001b[0m\u001b[0;34m\u001b[0m\u001b[0m\n\u001b[1;32m   2387\u001b[0m         \u001b[0mret\u001b[0m \u001b[0;34m=\u001b[0m \u001b[0mtorch\u001b[0m\u001b[0;34m.\u001b[0m\u001b[0m_C\u001b[0m\u001b[0;34m.\u001b[0m\u001b[0m_nn\u001b[0m\u001b[0;34m.\u001b[0m\u001b[0mnll_loss2d\u001b[0m\u001b[0;34m(\u001b[0m\u001b[0minput\u001b[0m\u001b[0;34m,\u001b[0m \u001b[0mtarget\u001b[0m\u001b[0;34m,\u001b[0m \u001b[0mweight\u001b[0m\u001b[0;34m,\u001b[0m \u001b[0m_Reduction\u001b[0m\u001b[0;34m.\u001b[0m\u001b[0mget_enum\u001b[0m\u001b[0;34m(\u001b[0m\u001b[0mreduction\u001b[0m\u001b[0;34m)\u001b[0m\u001b[0;34m,\u001b[0m \u001b[0mignore_index\u001b[0m\u001b[0;34m)\u001b[0m\u001b[0;34m\u001b[0m\u001b[0;34m\u001b[0m\u001b[0m\n",
            "\u001b[0;31mIndexError\u001b[0m: Target 9 is out of bounds."
          ]
        }
      ]
    },
    {
      "cell_type": "code",
      "metadata": {
        "colab": {
          "base_uri": "https://localhost:8080/"
        },
        "id": "Z8AF7Ijg7M3y",
        "outputId": "7dd5b3a0-c866-4dce-b484-07f13c518898"
      },
      "source": [
        "log_softmax.shape"
      ],
      "execution_count": null,
      "outputs": [
        {
          "output_type": "execute_result",
          "data": {
            "text/plain": [
              "torch.Size([16, 1])"
            ]
          },
          "metadata": {
            "tags": []
          },
          "execution_count": 88
        }
      ]
    },
    {
      "cell_type": "code",
      "metadata": {
        "colab": {
          "base_uri": "https://localhost:8080/"
        },
        "id": "AYgxtadZ7RDG",
        "outputId": "44d45a90-7268-4b32-9549-a63f138f479f"
      },
      "source": [
        "labels_torch"
      ],
      "execution_count": null,
      "outputs": [
        {
          "output_type": "execute_result",
          "data": {
            "text/plain": [
              "tensor([ 9,  4,  4,  5,  6,  9,  5, 11,  9,  9, 10,  7,  9,  4,  5, 11])"
            ]
          },
          "metadata": {
            "tags": []
          },
          "execution_count": 89
        }
      ]
    },
    {
      "cell_type": "code",
      "metadata": {
        "colab": {
          "base_uri": "https://localhost:8080/",
          "height": 267
        },
        "id": "8pDFdKFc6NpL",
        "outputId": "51d368af-bd56-4cd9-c56a-4654beb428d0"
      },
      "source": [
        "trained_embeddings = W1.data.numpy()\n",
        "\n",
        "for i, label in enumerate(word_list):  #enumerate 计算，列举\n",
        "  x, y = trained_embeddings[i]   \n",
        "  #print(label,\" : \", x, \" \", y)  #非必须\n",
        "  plt.scatter(x, y)\n",
        "  plt.annotate(label, xy=(x, y), xytext=(5,2), ##只有前两个名字都凑到一起了，就在点附近 xytext:所有的名字都集中在这个点\n",
        "               textcoords='offset points',ha= 'right',va='bottom')  #textcoords:名字又分到各自的点上了，有些点的名字改善了，能看清了\n",
        "          #ha 名字在点的左上方 va 没看出来有什么变化\n",
        "\n",
        "plt.show()"
      ],
      "execution_count": null,
      "outputs": [
        {
          "output_type": "display_data",
          "data": {
            "image/png": "[encoded data removed]",
            "text/plain": [
              "<Figure size 432x288 with 1 Axes>"
            ]
          },
          "metadata": {
            "tags": [],
            "needs_background": "light"
          }
        }
      ]
    },
    {
      "cell_type": "code",
      "metadata": {
        "id": "p_JsECfq6Wji"
      },
      "source": [
        ""
      ],
      "execution_count": null,
      "outputs": []
    },
    {
      "cell_type": "markdown",
      "metadata": {
        "id": "UK_XU91R6Wvz"
      },
      "source": [
        "其他参考，期中得复习了"
      ]
    },
    {
      "cell_type": "markdown",
      "metadata": {
        "id": "x__yy4V1mNZo"
      },
      "source": [
        "### Your Solution"
      ]
    },
    {
      "cell_type": "code",
      "metadata": {
        "id": "fUPtvPgjmNGf"
      },
      "source": [
        "# Read the requirement carefully and implement the code by your own to fulfill the requirement.\n",
        "# You can refer to the code from the labs\n",
        "# Please try to make your code tidy with decent comments\n",
        " "
      ],
      "execution_count": null,
      "outputs": []
    },
    {
      "cell_type": "markdown",
      "metadata": {
        "id": "g-k1W8RQIxO5"
      },
      "source": [
        "### Sample Output"
      ]
    },
    {
      "cell_type": "code",
      "metadata": {
        "colab": {
          "base_uri": "https://localhost:8080/"
        },
        "id": "v3TcOy0vAmsb",
        "outputId": "53a8be64-9e2e-4e89-9a2e-c590b6564d1a"
      },
      "source": [
        "# The sample output for model training log (only for format reference)"
      ],
      "execution_count": null,
      "outputs": [
        {
          "output_type": "stream",
          "text": [
            "Epoch: 500, loss: 4.4944\n",
            "Epoch: 1000, loss: 4.1465\n",
            "Epoch: 1500, loss: 4.0476\n",
            "Epoch: 2000, loss: 4.0518\n",
            "Epoch: 2500, loss: 4.0087\n",
            "Epoch: 3000, loss: 4.0032\n",
            "Epoch: 3500, loss: 4.0064\n",
            "Epoch: 4000, loss: 4.0014\n",
            "Epoch: 4500, loss: 4.0442\n",
            "Epoch: 5000, loss: 4.0085\n"
          ],
          "name": "stdout"
        }
      ]
    },
    {
      "cell_type": "code",
      "metadata": {
        "id": "PkWJO3LkI-I_",
        "colab": {
          "base_uri": "https://localhost:8080/",
          "height": 267
        },
        "outputId": "918a2013-f171-416e-f3ca-ea00be9e3fc7"
      },
      "source": [
        "# The sample output for trained embedding visualization (only for format reference)"
      ],
      "execution_count": null,
      "outputs": [
        {
          "output_type": "display_data",
          "data": {
            "image/png": "[encoded data removed]",
            "text/plain": [
              "<Figure size 432x288 with 1 Axes>"
            ]
          },
          "metadata": {
            "tags": [],
            "needs_background": "light"
          }
        }
      ]
    },
    {
      "cell_type": "code",
      "metadata": {
        "id": "MSr_TGwd4bcE"
      },
      "source": [
        ""
      ],
      "execution_count": null,
      "outputs": []
    },
    {
      "cell_type": "code",
      "metadata": {
        "id": "sPJUDZIe4bpU"
      },
      "source": [
        "#有关gensim.models.word2vec的更多详细信息，您可以参考Gensim Word2Vec的API。\n",
        "#https://radimrehurek.com/gensim/models/word2vec.html\n",
        "\n",
        "wv_cbow_model = Word2Vec(sentences=sentences, size=100, window=5, min_count=5 , workers=2, sg=0)\n",
        "\n",
        "'''\n",
        "Word2Vec(sentences=None, corpus_file=None, size=100, alpha=0.025, window=5, \n",
        "min_count=5, max_vocab_size=None, sample=0.001, seed=1, workers=3, \n",
        "min_alpha=0.0001, sg=0, hs=0, negative=5, ns_exponent=0.75, cbow_mean=1, \n",
        "hashfxn=<built-in function hash>, iter=5, null_word=0, trim_rule=None, \n",
        "sorted_vocab=1, batch_words=10000, compute_loss=False, callbacks=(), max_final_vocab=None)\n",
        "'''\n",
        "'''\n",
        " Initialize and train a word2vec model with the following parameters:\n",
        " 初始化+训练w2v模型\n",
        "# sentence: iterable of iterables, i.e. the list of lists of tokens from our data\n",
        "可迭代的迭代： 符号化来自我们数据的列表们的列表\n",
        "# size: dimensionality of the word vectors\n",
        "单词向量的维度\n",
        "# window: window size\n",
        "# min_count: ignores all words with total frequency lower than the specified count value\n",
        "频率比具体化数值低的单词都忽略。 （忽略总频率低语指定计数值的所有单词）\n",
        "\n",
        "# workers: Use specified number of worker threads （线程；主题）【嘶·若案·子】 to train the model (=faster training with multicore machines)\n",
        "\n",
        "运行程序就是进程 进程中最小单位是一个线程； 一个进程有至少一个线程\n",
        "清理垃圾之后再杀毒 是有顺序的，~~单线程 \n",
        "#https://blog.csdn.net/csdnnews/article/details/82321777?ops_request_misc=%257B%2522request%255Fid%2522%253A%2522161569868516780264066483%2522%252C%2522scm%2522%253A%252220140713.130102334..%2522%257D&request_id=161569868516780264066483&biz_id=0&utm_medium=distribute.pc_search_result.none-task-blog-2~all~sobaiduend~default-3-82321777.first_rank_v2_pc_rank_v29&utm_term=线程\n",
        "还讲了线程安全\n",
        "\n",
        "【worker是什么含义每天搞懂】使用指定数量的worker 线程来训练模型（=使用multicore机器进行更快的训练）\n",
        "\n",
        "# sg: training algorithm, 0 for CBOW, 1 for skip-gram\n",
        "sg：训练算法，CBOW 为0 ； Skip-gram 为1\n",
        "'''\n",
        "#这个地方空格了后面的地方没空格"
      ],
      "execution_count": null,
      "outputs": []
    },
    {
      "cell_type": "code",
      "metadata": {
        "id": "xxHIwaCs4fJk"
      },
      "source": [
        "similar_words = wv_cbow_model.wv.most_similar(\"man\") #topn = 10 default (的A·佛奥·忒) 默认值\n",
        "pprint.pprint(similar_words)\n",
        "# The trained word vectors are stored in a KeyedVectors instance（实例） as model.wv\n",
        "#训练单词向量存在KeyedVectors 实例作为model.wv ([主宾谓]训练后的词向量以model.wv的形式存在keyedvec实例中)\n",
        "# Get the top 10 similar words to 'man' by calling most_similar() \n",
        "#通过calling most_similar() 得到 前十个相似单词。\n",
        "#通过调用most_similar() 获取与\"man\"相似的前十个词\n",
        "# most_similar() computes cosine similarity between a simple mean of the vectors of the given words and the vectors for each word in the model \n",
        "#他是变得。\n",
        "#most_similar() 计算余弦相似度，在一个简单的被给单词的向量含义和每个在模型中向量的单词\n",
        "#（计算给定的单词的向量和模型中每个单词的向量的简单均值之间的（ a simple mean of） 余弦相似度。\n",
        "#【不懂】\n",
        "#【值是变化的可能是获取的文件不够稳定。所有的值都是变化的。】但是频率差距不大。"
      ],
      "execution_count": null,
      "outputs": []
    },
    {
      "cell_type": "code",
      "metadata": {
        "id": "CByVxtDZ4f4l"
      },
      "source": [
        "'''\n",
        "#sg=0；；cbow \n",
        "wv_cbow_model = Word2Vec(sentences = sentences, size = 100, window = 5, min_count = 5 , workers = 2, sg = 0)\n",
        "similar_words = wv_cbow_model.wv.most_similar(\"man\") \n",
        "\n",
        "#sg=1；； sg 模型\n",
        "wv_sg_model = Word2Vec(sentences=sentences, size=100,window=5,min_count=5,workers=2,sg=1)\n",
        "similar_words=wv_sg_model.wv.most_similar(\"man\") \n",
        "\n",
        "ft_sg_model = FastText(sentences,size=100,window=5,min_count=5,workers=2,sg=1)\n",
        "result=ft_sg_model.wv.most_similar(\"electrofishing\")\n",
        "\n",
        "ft_cbow_model = FastText(sentences,size=100,window=5,min_count=5,workers=2,sg=0)\n",
        "result=ft_cbow_model.wv.most_similar(\"electrofishing\")\n",
        "\n",
        "\n",
        "#就是把（）中的单词变成了K-M+W （）是变化的其他是不变的\n",
        "'''\n",
        "\n"
      ],
      "execution_count": null,
      "outputs": []
    },
    {
      "cell_type": "code",
      "metadata": {
        "id": "QP_UQwk84i8a"
      },
      "source": [
        "'''\n",
        "wv_sg_model = Word2Vec(sentences=sentences, size=100, window=5, min_count=5, workers=2, sg=1)\n",
        "# KG 和CBOW不同的是sg这个参数多了 从0变1 这样就从CBOW 模型切换到SG模型了。\n",
        " #跟空格有关系吗？？没关系\n",
        " '''\n",
        " # Now we switch to a Skip Gram model by setting parameter sg=1\n",
        "wv_sg_model = Word2Vec(sentences=sentences, size=100, window=5, min_count=5, workers=2, sg=1)\n",
        "#不是上面是这出了问题 不是这个出了问题 与空格无关系"
      ],
      "execution_count": null,
      "outputs": []
    },
    {
      "cell_type": "code",
      "metadata": {
        "id": "2lHF4dIJ4oue"
      },
      "source": [
        "similar_words=wv_sg_model.wv.most_similar(\"man\") #唯一不同把调用的模型名字变了。\n",
        "pprint.pprint(similar_words)"
      ],
      "execution_count": null,
      "outputs": []
    },
    {
      "cell_type": "code",
      "metadata": {
        "id": "tM5jChL9UCFa"
      },
      "source": [
        ""
      ],
      "execution_count": null,
      "outputs": []
    },
    {
      "cell_type": "code",
      "metadata": {
        "id": "mPg8wzsHUCSI"
      },
      "source": [
        "import torch\n",
        "from torch import nn, optim\n",
        "from torch.autograd import Variable\n",
        "import torch.nn.functional as F\n",
        " \n",
        "CONTEXT_SIZE = 2\n",
        "raw_text =  \"We are about to study the idea of a computational process. Computational processes are abstract beings that inhabit computers. As they evolve, processes manipulate other abstract things called data. The evolution of a process is directed by a pattern of rules called a program. People create programs to direct processes. In effect, we conjure the spirits of the computer with our spells.\".split(' ')\n",
        " \n",
        "vocab=set(raw_text)\n",
        " \n",
        "word_to_idx = {word:i for i,word in enumerate(vocab)}\n",
        " \n",
        "data=[]\n",
        " \n",
        "for i in range(CONTEXT_SIZE,len(raw_text)-CONTEXT_SIZE):\n",
        "\tcontext = [raw_text[i-2], raw_text[i-1], raw_text[i+1], raw_text[i+2]]\n",
        "\ttarget = raw_text[i]\n",
        "\tdata.append((context,target))\n",
        " \n",
        "class CBOW(nn.Module):\n",
        "\tdef __init__(self,n_word,n_dim,context_size):\n",
        "\t\tsuper(CBOW,self).__init__()\n",
        "\t\tself.embedding = nn.Embedding(n_word,n_dim)\n",
        "\t\tself.linear1= nn.Linear(2*context_size*n_dim,128)\n",
        "\t\tself.linear2 = nn.Linear(128,n_word)\n",
        "\tdef forward(self,x):\n",
        "\t\tx = self.embedding(x)\n",
        "\t\tx = x.view(1,-1)\n",
        "\t\tx = self.linear1(x)\n",
        "\t\tx = F.relu(x,inplace=True)\n",
        "\t\tx = self.linear2(x)\n",
        "\t\tx = F.log_softmax(x)\n",
        "\t\treturn x\n",
        " \n",
        "model = CBOW(len(word_to_idx),100,CONTEXT_SIZE)\n",
        "if torch.cuda.is_available():\n",
        "\tmodel = model.cuda()\n",
        " \n",
        "criterion = nn.CrossEntropyLoss()\n",
        "optimizer = optim.SGD(model.parameters(),lr=1e-3)\n",
        " \n",
        "for epoch in range(1000):\n",
        "    print('epoch{}'.format(epoch))\n",
        "    print('*'*10)\n",
        "    running_loss = 0\n",
        "    for word in data:\n",
        "        context,target = word\n",
        "        context = Variable(torch.LongTensor([word_to_idx[i] for i in context]))\n",
        "        target = Variable(torch.LongTensor([word_to_idx[target]]))\n",
        "        if torch.cuda.is_available():\n",
        "        \tcontext = context.cuda()\n",
        "        \ttarget = target.cuda()\n",
        "        out = model(context)\n",
        "        loss = criterion(out,target)\n",
        "        running_loss += loss.item()\n",
        "        optimizer.zero_grad()\n",
        "        loss.backward()\n",
        "        optimizer.step()\n",
        "    print('loss:{:.6f}'.format(running_loss/len(data)))\n",
        "\n"
      ],
      "execution_count": null,
      "outputs": []
    }
  ]
}